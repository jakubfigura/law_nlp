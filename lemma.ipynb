{
 "cells": [
  {
   "cell_type": "code",
   "execution_count": 39,
   "id": "c1714d60-2fdb-40d6-bfa5-5ea0e0d17182",
   "metadata": {},
   "outputs": [],
   "source": [
    "import pandas as pd\n",
    "import re\n",
    "import numpy as np\n",
    "import matplotlib.pyplot as plt\n",
    "import seaborn as sns\n",
    "import stanza\n",
    "from bertopic import BERTopic\n",
    "sns.set_theme()"
   ]
  },
  {
   "cell_type": "code",
   "execution_count": 23,
   "id": "2d2e1a3e-273a-4f8c-a658-21f45f037f0a",
   "metadata": {},
   "outputs": [],
   "source": [
    "df = pd.read_csv('TKclean0409v1.csv')"
   ]
  },
  {
   "cell_type": "code",
   "execution_count": 60,
   "id": "bd868f3c-5530-47fd-8365-e2df3e27b1c4",
   "metadata": {},
   "outputs": [
    {
     "data": {
      "application/vnd.jupyter.widget-view+json": {
       "model_id": "6d88cb9a98774fc1a9b8c0c74d29b13a",
       "version_major": 2,
       "version_minor": 0
      },
      "text/plain": [
       "Downloading https://raw.githubusercontent.com/stanfordnlp/stanza-resources/main/resources_1.10.0.json:   0%|  …"
      ]
     },
     "metadata": {},
     "output_type": "display_data"
    },
    {
     "name": "stderr",
     "output_type": "stream",
     "text": [
      "2025-05-28 23:24:09 INFO: Downloaded file to /Users/kuba.figura/stanza_resources/resources.json\n",
      "2025-05-28 23:24:09 INFO: Downloading default packages for language: pl (Polish) ...\n",
      "2025-05-28 23:24:10 INFO: File exists: /Users/kuba.figura/stanza_resources/pl/default.zip\n",
      "2025-05-28 23:24:11 INFO: Finished downloading models and saved to /Users/kuba.figura/stanza_resources\n",
      "2025-05-28 23:24:11 INFO: Checking for updates to resources.json in case models have been updated.  Note: this behavior can be turned off with download_method=None or download_method=DownloadMethod.REUSE_RESOURCES\n"
     ]
    },
    {
     "data": {
      "application/vnd.jupyter.widget-view+json": {
       "model_id": "2da745d10a3a48bcb60f48c32f023628",
       "version_major": 2,
       "version_minor": 0
      },
      "text/plain": [
       "Downloading https://raw.githubusercontent.com/stanfordnlp/stanza-resources/main/resources_1.10.0.json:   0%|  …"
      ]
     },
     "metadata": {},
     "output_type": "display_data"
    },
    {
     "name": "stderr",
     "output_type": "stream",
     "text": [
      "2025-05-28 23:24:11 INFO: Downloaded file to /Users/kuba.figura/stanza_resources/resources.json\n",
      "2025-05-28 23:24:11 WARNING: Language pl package default expects mwt, which has been added\n",
      "2025-05-28 23:24:11 INFO: Loading these models for language: pl (Polish):\n",
      "============================\n",
      "| Processor | Package      |\n",
      "----------------------------\n",
      "| tokenize  | pdb          |\n",
      "| mwt       | pdb          |\n",
      "| lemma     | pdb_nocharlm |\n",
      "============================\n",
      "\n",
      "2025-05-28 23:24:11 WARNING: GPU requested, but is not available!\n",
      "2025-05-28 23:24:11 INFO: Using device: cpu\n",
      "2025-05-28 23:24:11 INFO: Loading: tokenize\n",
      "2025-05-28 23:24:11 INFO: Loading: mwt\n",
      "2025-05-28 23:24:12 INFO: Loading: lemma\n",
      "2025-05-28 23:24:12 INFO: Done loading processors!\n"
     ]
    }
   ],
   "source": [
    "stanza.download('pl')\n",
    "nlp = stanza.Pipeline('pl', processors='tokenize,lemma', use_gpu = True)\n",
    "def lemmatize_polish(text):\n",
    "    doc = nlp(text)\n",
    "    lemmatized = []\n",
    "    for sentence in doc.sentences:\n",
    "        for word in sentence.words:\n",
    "            lemmatized.append(word.lemma)\n",
    "    return lemmatized"
   ]
  },
  {
   "cell_type": "code",
   "execution_count": 62,
   "id": "b451f3de-5f10-425c-8254-b053154fca22",
   "metadata": {},
   "outputs": [],
   "source": [
    "df['grounds_lem'] = df['grounds'].apply(lemmatize_polish)"
   ]
  }
 ],
 "metadata": {
  "kernelspec": {
   "display_name": "Python [conda env:base] *",
   "language": "python",
   "name": "conda-base-py"
  },
  "language_info": {
   "codemirror_mode": {
    "name": "ipython",
    "version": 3
   },
   "file_extension": ".py",
   "mimetype": "text/x-python",
   "name": "python",
   "nbconvert_exporter": "python",
   "pygments_lexer": "ipython3",
   "version": "3.12.7"
  }
 },
 "nbformat": 4,
 "nbformat_minor": 5
}
